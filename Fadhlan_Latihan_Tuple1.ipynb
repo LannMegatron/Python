{
 "cells": [
  {
   "cell_type": "code",
   "execution_count": 1,
   "id": "45c4c713-1abd-4ed1-8f5e-2fd0ec9431b1",
   "metadata": {},
   "outputs": [
    {
     "name": "stdout",
     "output_type": "stream",
     "text": [
      "['Rusia', 'Germany', 'Portugal']\n"
     ]
    }
   ],
   "source": [
    "# Membuat List\n",
    "Negara = ['Rusia', 'Germany', 'Portugal']\n",
    "print(Negara)"
   ]
  },
  {
   "cell_type": "code",
   "execution_count": 5,
   "id": "e1381108-db95-496f-b1fd-b7526a3a9b99",
   "metadata": {},
   "outputs": [
    {
     "name": "stdout",
     "output_type": "stream",
     "text": [
      "<class 'tuple'>\n",
      "Portugal\n"
     ]
    }
   ],
   "source": [
    "# Mengubah Type List Ke Type Tuple\n",
    "Negara = 'Rusia', 'Germany', 'Portugal'\n",
    "print(type(Negara))\n",
    "print(Negara[2])"
   ]
  },
  {
   "cell_type": "code",
   "execution_count": 13,
   "id": "260e052d-845f-4510-9bd5-cd329a4bd170",
   "metadata": {},
   "outputs": [
    {
     "ename": "AttributeError",
     "evalue": "'tuple' object has no attribute 'append'",
     "output_type": "error",
     "traceback": [
      "\u001b[1;31m---------------------------------------------------------------------------\u001b[0m",
      "\u001b[1;31mAttributeError\u001b[0m                            Traceback (most recent call last)",
      "Cell \u001b[1;32mIn[13], line 2\u001b[0m\n\u001b[0;32m      1\u001b[0m \u001b[38;5;66;03m# Menggunakan Perintah Menambah (Tuple Tidak Dapat Ditambah, Diubah, Maupun Dihapus Dikarenakan Bersifat Konstan)\u001b[39;00m\n\u001b[1;32m----> 2\u001b[0m Negara\u001b[38;5;241m.\u001b[39mappend(\u001b[38;5;124m'\u001b[39m\u001b[38;5;124mIndonesia\u001b[39m\u001b[38;5;124m'\u001b[39m)\n\u001b[0;32m      3\u001b[0m \u001b[38;5;28mprint\u001b[39m(\u001b[38;5;124m'\u001b[39m\u001b[38;5;124m/nSetelah append():\u001b[39m\u001b[38;5;124m'\u001b[39m)\n\u001b[0;32m      4\u001b[0m \u001b[38;5;28mprint\u001b[39m(Negara)\n",
      "\u001b[1;31mAttributeError\u001b[0m: 'tuple' object has no attribute 'append'"
     ]
    }
   ],
   "source": [
    "# Menggunakan Perintah Menambah (Tuple Tidak Dapat Ditambah, Diubah, Maupun Dihapus Dikarenakan Bersifat Konstan)\n",
    "Negara.append('Indonesia')\n",
    "print('/nSetelah append():')\n",
    "print(Negara)"
   ]
  },
  {
   "cell_type": "code",
   "execution_count": 21,
   "id": "5fdad4a0-a357-4aec-8899-8d61559f787b",
   "metadata": {},
   "outputs": [
    {
     "name": "stdout",
     "output_type": "stream",
     "text": [
      "Sebelum Diubah:\n",
      "('Rusia', 'Germany', 'Portugal')\n"
     ]
    },
    {
     "ename": "TypeError",
     "evalue": "'tuple' object does not support item assignment",
     "output_type": "error",
     "traceback": [
      "\u001b[1;31m---------------------------------------------------------------------------\u001b[0m",
      "\u001b[1;31mTypeError\u001b[0m                                 Traceback (most recent call last)",
      "Cell \u001b[1;32mIn[21], line 7\u001b[0m\n\u001b[0;32m      4\u001b[0m \u001b[38;5;28mprint\u001b[39m(Negara)\n\u001b[0;32m      6\u001b[0m \u001b[38;5;66;03m# Mengubah Nilai Element List\u001b[39;00m\n\u001b[1;32m----> 7\u001b[0m Negara[\u001b[38;5;241m1\u001b[39m]\u001b[38;5;241m=\u001b[39m\u001b[38;5;124m'\u001b[39m\u001b[38;5;124mIndonesia\u001b[39m\u001b[38;5;124m'\u001b[39m\n\u001b[0;32m      8\u001b[0m Negara[\u001b[38;5;241m-\u001b[39m\u001b[38;5;241m1\u001b[39m]\u001b[38;5;241m=\u001b[39m\u001b[38;5;124m'\u001b[39m\u001b[38;5;124mJapan\u001b[39m\u001b[38;5;124m'\u001b[39m\n\u001b[0;32m     10\u001b[0m \u001b[38;5;66;03m# Menanpilkan Hasil Perubahan\u001b[39;00m\n",
      "\u001b[1;31mTypeError\u001b[0m: 'tuple' object does not support item assignment"
     ]
    }
   ],
   "source": [
    "# Menggunakan Perintah Mengubah (Tuple Tidak Dapat Ditambah, Diubah, Maupun Dihapus Dikarenakan Bersifat Konstan)\n",
    "Negara = 'Rusia', 'Germany', 'Portugal'\n",
    "print(\"Sebelum Diubah:\")\n",
    "print(Negara)\n",
    "\n",
    "# Mengubah Nilai Element List\n",
    "Negara[1]='Indonesia'\n",
    "Negara[-1]='Japan'\n",
    "\n",
    "# Menanpilkan Hasil Perubahan\n",
    "print('\\nSetelah diubah:')\n",
    "print(Negara)"
   ]
  },
  {
   "cell_type": "code",
   "execution_count": 31,
   "id": "a6a98b5f-00b1-4984-a1ce-30e817aa9a68",
   "metadata": {},
   "outputs": [
    {
     "ename": "AttributeError",
     "evalue": "'tuple' object has no attribute 'remove'",
     "output_type": "error",
     "traceback": [
      "\u001b[1;31m---------------------------------------------------------------------------\u001b[0m",
      "\u001b[1;31mAttributeError\u001b[0m                            Traceback (most recent call last)",
      "Cell \u001b[1;32mIn[31], line 6\u001b[0m\n\u001b[0;32m      2\u001b[0m Negara \u001b[38;5;241m=\u001b[39m \u001b[38;5;124m'\u001b[39m\u001b[38;5;124mRusia\u001b[39m\u001b[38;5;124m'\u001b[39m, \u001b[38;5;124m'\u001b[39m\u001b[38;5;124mGermany\u001b[39m\u001b[38;5;124m'\u001b[39m, \u001b[38;5;124m'\u001b[39m\u001b[38;5;124mPortugal\u001b[39m\u001b[38;5;124m'\u001b[39m, \u001b[38;5;124m'\u001b[39m\u001b[38;5;124mIndonesia\u001b[39m\u001b[38;5;124m'\u001b[39m, \u001b[38;5;124m'\u001b[39m\u001b[38;5;124mJapan\u001b[39m\u001b[38;5;124m'\u001b[39m\n\u001b[0;32m      4\u001b[0m \u001b[38;5;66;03m# Menggunakan Remove(); Menghapus Element Dari List Berdasarkan Nilainya\u001b[39;00m\n\u001b[0;32m      5\u001b[0m \u001b[38;5;66;03m# Bentuk Umum: Nama_Variable.remove()\u001b[39;00m\n\u001b[1;32m----> 6\u001b[0m Negara\u001b[38;5;241m.\u001b[39mremove(\u001b[38;5;124m'\u001b[39m\u001b[38;5;124mIndonesia\u001b[39m\u001b[38;5;124m'\u001b[39m)\n\u001b[0;32m      7\u001b[0m Negara\u001b[38;5;241m.\u001b[39mremove(\u001b[38;5;124m'\u001b[39m\u001b[38;5;124mJapan\u001b[39m\u001b[38;5;124m'\u001b[39m)\n\u001b[0;32m      9\u001b[0m \u001b[38;5;66;03m# Menanpilkan Hasil Setelah Dihapus Dengan Metode Remove()\u001b[39;00m\n",
      "\u001b[1;31mAttributeError\u001b[0m: 'tuple' object has no attribute 'remove'"
     ]
    }
   ],
   "source": [
    "# Menggunakan Perintah Mengurangi (Tuple Tidak Dapat Ditambah, Diubah, Maupun Dihapus Dikarenakan Bersifat Konstan)\n",
    "Negara = 'Rusia', 'Germany', 'Portugal', 'Indonesia', 'Japan'\n",
    "\n",
    "# Menggunakan Remove(); Menghapus Element Dari List Berdasarkan Nilainya\n",
    "# Bentuk Umum: Nama_Variable.remove()\n",
    "Negara.remove('Indonesia')\n",
    "Negara.remove('Japan')\n",
    "\n",
    "# Menanpilkan Hasil Setelah Dihapus Dengan Metode Remove()\n",
    "print('\\nSetelah Dihapus Dengan Metode Remove():')\n",
    "print(Negara)\n",
    "print()"
   ]
  },
  {
   "cell_type": "code",
   "execution_count": 33,
   "id": "13772ae1-b434-49ac-bda6-21842d63d4df",
   "metadata": {},
   "outputs": [
    {
     "name": "stdout",
     "output_type": "stream",
     "text": [
      "<class 'tuple'>\n",
      "('Rusia', 'Germany', 'Portugal', 'Japan', 'Indonesi', 'Korea', 'China')\n",
      "Rusia\n",
      "Germany\n"
     ]
    }
   ],
   "source": [
    "# Menggunakan Perintah Index\n",
    "Negara = ('Rusia', 'Germany', 'Portugal', 'Japan', 'Indonesi', 'Korea', 'China')\n",
    "print(type(Negara))\n",
    "\n",
    "# Menampilkan Negara\n",
    "print(Negara)\n",
    "print(Negara[0])\n",
    "print(Negara[1])"
   ]
  },
  {
   "cell_type": "code",
   "execution_count": 39,
   "id": "41e6c98e-d38f-4990-b9c1-30cea1360bd0",
   "metadata": {},
   "outputs": [
    {
     "name": "stdout",
     "output_type": "stream",
     "text": [
      "True\n",
      "False\n",
      "True\n",
      "False\n",
      "True\n",
      "False\n",
      "True\n"
     ]
    }
   ],
   "source": [
    "# Menggunakan Perintah Operator \"in\"\n",
    "Negara = 'Rusia', 'Germany', 'Portugal', 'Japan', 'Indonesia', 'Korea', 'China'\n",
    "\n",
    "print('Rusia' in Negara)\n",
    "print('Ukraina' in Negara)\n",
    "print('Germany' in Negara)\n",
    "print('Mongolia' in Negara)\n",
    "print('Japan' in Negara)\n",
    "print('Thailand' in Negara)\n",
    "print('China' in Negara)"
   ]
  },
  {
   "cell_type": "code",
   "execution_count": null,
   "id": "dc57e317-7763-4de9-babc-46dd9dd6bbdd",
   "metadata": {},
   "outputs": [],
   "source": []
  }
 ],
 "metadata": {
  "kernelspec": {
   "display_name": "Python 3 (ipykernel)",
   "language": "python",
   "name": "python3"
  },
  "language_info": {
   "codemirror_mode": {
    "name": "ipython",
    "version": 3
   },
   "file_extension": ".py",
   "mimetype": "text/x-python",
   "name": "python",
   "nbconvert_exporter": "python",
   "pygments_lexer": "ipython3",
   "version": "3.12.4"
  }
 },
 "nbformat": 4,
 "nbformat_minor": 5
}
