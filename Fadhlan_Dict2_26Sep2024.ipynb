{
 "cells": [
  {
   "cell_type": "code",
   "execution_count": 54,
   "id": "fb613881-1e2d-4e44-9ba2-9e1166ca81f1",
   "metadata": {},
   "outputs": [
    {
     "name": "stdout",
     "output_type": "stream",
     "text": [
      "Nama: Fadhlan\n",
      "Mata Kuliah: Python\n",
      "Nilai UTS 89\n",
      "Nilai UAS 95\n",
      "Nilai UTS + Nilai UAS 184\n"
     ]
    }
   ],
   "source": [
    "#Experiment 2: Buatlah Dictionary Nama, Mata Kuliah, Nilai UTS, Nilai UAS, Nilai UTS + NILAI UAS\n",
    "dic ={'Nama':'Fadhlan', 'Mata Kuliah':'Python', 'Nilai UTS':89, 'Nilai UAS':95}\n",
    "\n",
    "#Operasi Matematis Dictionary\n",
    "print(\"Nama:\", dic['Nama'])\n",
    "print(\"Mata Kuliah:\", dic['Mata Kuliah'])\n",
    "print(\"Nilai UTS\", dic['Nilai UTS'])\n",
    "print(\"Nilai UAS\", dic['Nilai UAS'])\n",
    "dic = {'Nilai UTS':89, 'Nilai UAS':95}\n",
    "print(\"Nilai UTS + Nilai UAS\", dic['Nilai UTS'] + dic['Nilai UAS'])"
   ]
  },
  {
   "cell_type": "code",
   "execution_count": 60,
   "id": "cdbe37ba-e44d-4904-ae90-aea405874978",
   "metadata": {},
   "outputs": [
    {
     "name": "stdout",
     "output_type": "stream",
     "text": [
      "{'Nama': 'Fadhlan', 'Mata Kuliah': 'Python', 'Nilai UTS': 89, 'Nilai UAS': 95, 'Hasil': 'Lulus'}\n"
     ]
    }
   ],
   "source": [
    "#Menambahkan Element Dalam Dictionary\n",
    "dic ={'Nama':'Fadhlan', 'Mata Kuliah':'Python', 'Nilai UTS':89, 'Nilai UAS':95}\n",
    "dic['Hasil'] = 'Lulus'\n",
    "print(dic)"
   ]
  },
  {
   "cell_type": "code",
   "execution_count": 68,
   "id": "0cebfb73-f32b-4618-807c-0aba549146f4",
   "metadata": {},
   "outputs": [
    {
     "name": "stdout",
     "output_type": "stream",
     "text": [
      "{'Nama': 'Fadhlan', 'Mata Kuliah': 'Python', 'Nilai UTS': 38, 'Nilai UAS': 46, 'Hasil': 'Tidak Lulus'}\n"
     ]
    }
   ],
   "source": [
    "#Mengubah Element Dalam Dictionary\n",
    "dic ={'Nama': 'Fadhlan', 'Mata Kuliah': 'Python', 'Nilai UTS': 89, 'Nilai UAS': 95, 'Hasil': 'Lulus'}\n",
    "dic['Nilai UTS'] = 38\n",
    "dic['Nilai UAS'] = 46\n",
    "dic['Hasil'] = 'Tidak Lulus'\n",
    "print(dic)"
   ]
  },
  {
   "cell_type": "code",
   "execution_count": 76,
   "id": "7becaf87-823b-4004-923a-76b7abd1e642",
   "metadata": {},
   "outputs": [
    {
     "name": "stdout",
     "output_type": "stream",
     "text": [
      "{'Nama': 'Fadhlan', 'Mata Kuliah': 'Python', 'Nilai UTS': 38, 'Nilai UAS': 46}\n"
     ]
    }
   ],
   "source": [
    "#Menghapus Element Dari Dictionary\n",
    "dic ={'Nama': 'Fadhlan', 'Mata Kuliah': 'Python', 'Nilai UTS': 38, 'Nilai UAS': 46, 'Hasil': 'Tidak Lulus'}\n",
    "del dic['Hasil']\n",
    "print(dic)"
   ]
  },
  {
   "cell_type": "code",
   "execution_count": null,
   "id": "61b486ce-964e-4720-8036-98140160dc1b",
   "metadata": {},
   "outputs": [],
   "source": []
  }
 ],
 "metadata": {
  "kernelspec": {
   "display_name": "Python 3 (ipykernel)",
   "language": "python",
   "name": "python3"
  },
  "language_info": {
   "codemirror_mode": {
    "name": "ipython",
    "version": 3
   },
   "file_extension": ".py",
   "mimetype": "text/x-python",
   "name": "python",
   "nbconvert_exporter": "python",
   "pygments_lexer": "ipython3",
   "version": "3.12.4"
  }
 },
 "nbformat": 4,
 "nbformat_minor": 5
}
