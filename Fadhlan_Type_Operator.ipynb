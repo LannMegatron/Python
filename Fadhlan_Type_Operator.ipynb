{
 "cells": [
  {
   "cell_type": "markdown",
   "id": "59d6a66e-a934-4599-9f85-86df03b3b040",
   "metadata": {},
   "source": [
    "# Operator"
   ]
  },
  {
   "cell_type": "code",
   "execution_count": 2,
   "id": "0f56352a-1ca5-4ea7-b49c-45daeadbc13e",
   "metadata": {},
   "outputs": [],
   "source": [
    "# Dalam Pembuatan Program, Banyak Menggunakan Operasi-Operasi Yang Melibatkan Nilai Numerik, String,Dll\n",
    "# Operator Diklasifikasikan Ke Dalam 5 klp:\n",
    "# 1) Operator Penugasan\n",
    "# 2) Operator Aritmatika\n",
    "# 3) Operator Relasional\n",
    "# 4) Operator Logika\n",
    "# 5) Operator String\n",
    "# 6) Operator Bitwise"
   ]
  },
  {
   "cell_type": "markdown",
   "id": "2f39169d-5bd1-428f-9d7f-07a15962911a",
   "metadata": {},
   "source": [
    "# Operasi Penugasan (Assignment)"
   ]
  },
  {
   "cell_type": "code",
   "execution_count": 5,
   "id": "49638f98-10b5-4b89-91cd-6449aa3aa4c5",
   "metadata": {},
   "outputs": [
    {
     "name": "stdout",
     "output_type": "stream",
     "text": [
      "5\n"
     ]
    }
   ],
   "source": [
    "# Menggunakan Tanda Operasi / Operator Sama Dengan (=)\n",
    "# Contoh\n",
    "a = 5\n",
    "print(a)"
   ]
  },
  {
   "cell_type": "code",
   "execution_count": 7,
   "id": "062a11a8-d577-4196-a76d-74318b850dea",
   "metadata": {},
   "outputs": [
    {
     "name": "stdout",
     "output_type": "stream",
     "text": [
      "13\n"
     ]
    }
   ],
   "source": [
    "# Contoh\n",
    "a = 5\n",
    "a = a + 8 # a baru = a lama + 8\n",
    "print(a)"
   ]
  },
  {
   "cell_type": "code",
   "execution_count": 9,
   "id": "7e137ecb-7e73-4ee4-a4d7-fbaa08690807",
   "metadata": {},
   "outputs": [
    {
     "name": "stdout",
     "output_type": "stream",
     "text": [
      "13\n"
     ]
    }
   ],
   "source": [
    "# Merubah Kode Operasi Penjumlahan\n",
    "# Contoh\n",
    "a = 5\n",
    "a += 8 # a baru = a lama + 8\n",
    "print(a)"
   ]
  },
  {
   "cell_type": "code",
   "execution_count": 35,
   "id": "7d1b106b-824a-44cf-8f73-c279fc0a19de",
   "metadata": {},
   "outputs": [
    {
     "name": "stdout",
     "output_type": "stream",
     "text": [
      "30\n"
     ]
    }
   ],
   "source": [
    "# Operasi Perkalian\n",
    "# Contoh\n",
    "b = 10\n",
    "b *= 3\n",
    "print(b)"
   ]
  },
  {
   "cell_type": "code",
   "execution_count": 46,
   "id": "9990c054-cdd7-4368-bd30-6814dd40e18d",
   "metadata": {},
   "outputs": [
    {
     "name": "stdout",
     "output_type": "stream",
     "text": [
      "4\n"
     ]
    }
   ],
   "source": [
    "# Operasi Pembagian Bilangan Bulat (//=)\n",
    "# Contoh\n",
    "b = 30\n",
    "b //= 7\n",
    "print(b)"
   ]
  },
  {
   "cell_type": "code",
   "execution_count": 48,
   "id": "f437264c-ded8-48af-904f-638125e29be8",
   "metadata": {},
   "outputs": [
    {
     "name": "stdout",
     "output_type": "stream",
     "text": [
      "4.285714285714286\n"
     ]
    }
   ],
   "source": [
    "# Operasi Pembagian Bilangan Riil (/=)\n",
    "b = 30\n",
    "b /= 7\n",
    "print(b)"
   ]
  },
  {
   "cell_type": "code",
   "execution_count": 50,
   "id": "aee6d158-42a4-477a-b7b7-1874ac21844e",
   "metadata": {},
   "outputs": [
    {
     "name": "stdout",
     "output_type": "stream",
     "text": [
      "2\n"
     ]
    }
   ],
   "source": [
    "# Operasi Pencarian Sisa Bagi (%=)\n",
    "b = 30\n",
    "b %= 7\n",
    "print(b)"
   ]
  },
  {
   "cell_type": "markdown",
   "id": "39fdbe79-f27d-418f-b378-2183ef58ff6f",
   "metadata": {},
   "source": [
    "# Operator Aritmatika"
   ]
  },
  {
   "cell_type": "code",
   "execution_count": 69,
   "id": "37f67b65-8788-4577-bf16-8d517f5cadfb",
   "metadata": {},
   "outputs": [
    {
     "name": "stdout",
     "output_type": "stream",
     "text": [
      "x = 8\n",
      "y = 3\n",
      "x + y 11\n",
      "x - y 5\n",
      "x * y 24\n",
      "x / y 2.6666666666666665\n",
      "x // y 2\n",
      "x % y 2\n",
      "x ** y 512\n"
     ]
    }
   ],
   "source": [
    "# Operator Aritmatika Digunakan Untuk Melakukan Perhitungan Terhadap Data Numerik\n",
    "# Bentuk Operator:\n",
    "# (+) --> Penjumlahan\n",
    "# (-) --> Pengurangan\n",
    "# (*) --> Perkalian\n",
    "# (/) --> Pembagian Bilangan Riil\n",
    "# (//) --> Pembagian Bilangan Bulat\n",
    "# (%) --> Sisa Bagi (Modulus)\n",
    "# (**) --> Perpangkatan\n",
    "\n",
    "# Contoh Program\n",
    "def main():\n",
    "    # Mendefinisikan Variable X Dan Y\n",
    "    x = 8\n",
    "    y = 3\n",
    "\n",
    "    # Menampilkan Nilai X Dan Y\n",
    "    print('x =', x)\n",
    "    print('y =', y)\n",
    "\n",
    "    # Melalkukan Perhitungan Terhadap X Dan Y\n",
    "    print('x + y', (x + y))\n",
    "    print('x - y', (x - y))\n",
    "    print('x * y', (x * y))\n",
    "    print('x / y', (x / y))\n",
    "    print('x // y', (x // y))\n",
    "    print('x % y', (x % y))\n",
    "    print('x ** y', (x ** y))\n",
    "\n",
    "if __name__ == '__main__':\n",
    "    main()"
   ]
  },
  {
   "cell_type": "code",
   "execution_count": 77,
   "id": "b3ea3458-01e3-4f5a-adb2-de365e9b5166",
   "metadata": {},
   "outputs": [
    {
     "name": "stdout",
     "output_type": "stream",
     "text": [
      "x = 18\n",
      "y = 4\n",
      "x + y 22\n",
      "x - y 14\n",
      "x * y 72\n",
      "x / y 4.5\n",
      "x // y 4\n",
      "x % y 2\n",
      "x ** y 104976\n"
     ]
    }
   ],
   "source": [
    "def main():\n",
    "    # Mendefinisikan Variable X Dan Y\n",
    "    x = 18\n",
    "    y = 4\n",
    "\n",
    "    # Menampilkan Nilai X Dan Y\n",
    "    print('x =', x)\n",
    "    print('y =', y)\n",
    "\n",
    "    # Melalkukan Perhitungan Terhadap X Dan Y\n",
    "    print('x + y', (x + y))\n",
    "    print('x - y', (x - y))\n",
    "    print('x * y', (x * y))\n",
    "    print('x / y', (x / y))\n",
    "    print('x // y', (x // y))\n",
    "    print('x % y', (x % y))\n",
    "    print('x ** y', (x ** y))\n",
    "\n",
    "if __name__ == '__main__':\n",
    "    main()"
   ]
  },
  {
   "cell_type": "markdown",
   "id": "b47aa6d7-dfe8-4a54-9f58-6eeb5a4b33be",
   "metadata": {},
   "source": [
    "# Operator Relasional"
   ]
  },
  {
   "cell_type": "code",
   "execution_count": 82,
   "id": "d0125f45-6017-4f59-bced-037b73c3a1ea",
   "metadata": {},
   "outputs": [
    {
     "name": "stdout",
     "output_type": "stream",
     "text": [
      "x = 8\n",
      "y = 5\n",
      "[2, 4, 8, 16, 32]\n",
      "x == y False\n",
      "x != y True\n",
      "x > y True\n",
      "x >= y True\n",
      "x < y False\n",
      "x <= y False\n",
      "x in li True\n",
      "y in  li False\n"
     ]
    }
   ],
   "source": [
    "# Operator Yang Digunakan Untuk Membandingkan Dua Buah Nilai.\n",
    "# Hasil Perbandingan Yang Diperoleh Adalah Nilai Logika (Bertipe Bool), Yaitu True(Benar) Atau False(Salah)\n",
    "# Bentuk Operator:\n",
    "# (==) --> Sama Dengan\n",
    "# (!=) --> Tidak Sama Dengan\n",
    "# (>) --> Lebih Besar\n",
    "# (>=) --> Lebih Besar Atau Sama Dengan\n",
    "# (<) --> Lebih Kecil\n",
    "# (<=) --> Lebih Kecil Atau Sama Dengan\n",
    "# (in) --> Memeriksa Nilai Dalam Kumpulan (Dict, List, Tuple, Set)\n",
    "\n",
    "# Contoh Program:\n",
    "def main():\n",
    "    # Mendefinisikan Variable X Dan Y\n",
    "    # Dan li (Bertipe List)\n",
    "    x = 8\n",
    "    y = 5\n",
    "    li = [2, 4, 8, 16, 32]\n",
    "\n",
    "    # Menampilkan Nilai X Dan Y\n",
    "    print('x =', x)\n",
    "    print('y =', y)\n",
    "    print(li)\n",
    "\n",
    "    # Melalkukan Pemeriksaan Terhadap X Dan Y\n",
    "    print('x == y', (x == y))\n",
    "    print('x != y', (x != y))\n",
    "    print('x > y', (x > y))\n",
    "    print('x >= y', (x >= y))\n",
    "    print('x < y', (x < y))\n",
    "    print('x <= y', (x <= y))\n",
    "    print('x in li', (x in li))\n",
    "    print('y in  li', (y in li))\n",
    "\n",
    "if __name__ == '__main__':\n",
    "    main()"
   ]
  },
  {
   "cell_type": "markdown",
   "id": "2588fe50-0303-4e8a-b1eb-942b9b76c957",
   "metadata": {},
   "source": [
    "# Operator Logika"
   ]
  },
  {
   "cell_type": "code",
   "execution_count": 106,
   "id": "9596860f-0f22-4962-877d-042b428c0ca8",
   "metadata": {},
   "outputs": [
    {
     "name": "stdout",
     "output_type": "stream",
     "text": [
      "operasi AND\n",
      "True and True\t: True\n",
      "True and False\t: False\n",
      "False and True\t: False\n",
      "False and False\t: False\n",
      "\n",
      "operasi OR\n",
      "True or True\t: True\n",
      "True or False\t: True\n",
      "False or True\t: True\n",
      "False or False\t: False\n",
      "\n",
      "operasi NOT\n",
      "True \t: False\n",
      "False \t: True\n"
     ]
    }
   ],
   "source": [
    "# Adalah Operator Yang Digunakan Untuk Melakukan Operasi Terhadap Nilai True Dan False\n",
    "# Operator and --> Operasi AND\n",
    "# Operator or --> Operasi OR\n",
    "# Operator not --> Operasi NOT\n",
    "\n",
    "# Contoh Program:\n",
    "def main():\n",
    "    print('operasi AND')\n",
    "    print('True and True\\t:', (True and True))\n",
    "    print('True and False\\t:', (True and False))\n",
    "    print('False and True\\t:', (False and True))\n",
    "    print('False and False\\t:', (False and False))\n",
    "\n",
    "if __name__ == '__main__':\n",
    "    main()\n",
    "print('')\n",
    "\n",
    "def main():\n",
    "    print('operasi OR')\n",
    "    print('True or True\\t:', (True or True))\n",
    "    print('True or False\\t:', (True or False))\n",
    "    print('False or True\\t:', (False or True))\n",
    "    print('False or False\\t:', (False or False))\n",
    "\n",
    "if __name__ == '__main__':\n",
    "    main()\n",
    "print('')\n",
    "\n",
    "def main():\n",
    "    print('operasi NOT')\n",
    "    print('True \\t:', (not True))\n",
    "    print('False \\t:', (not False))\n",
    "\n",
    "if __name__ == '__main__':\n",
    "    main()"
   ]
  },
  {
   "cell_type": "markdown",
   "id": "0ea3af29-d9e9-44fe-8ae9-bb376585f1a2",
   "metadata": {},
   "source": [
    "# Operator String"
   ]
  },
  {
   "cell_type": "code",
   "execution_count": 114,
   "id": "2a56566a-6d7a-4e40-92c9-e3b070637e0e",
   "metadata": {},
   "outputs": [
    {
     "name": "stdout",
     "output_type": "stream",
     "text": [
      "PoliteknikTakumi\n"
     ]
    }
   ],
   "source": [
    "# String Dapat Disambungkan Dengan String Lain Menggunakan Operator \"+\"\n",
    "\n",
    "# Contoh:\n",
    "str1 = 'Politeknik'\n",
    "str2 = 'Takumi'\n",
    "\n",
    "# Menjumlahkan String\n",
    "str3 = str1 + str2\n",
    "print(str3)"
   ]
  },
  {
   "cell_type": "code",
   "execution_count": 119,
   "id": "060f0b69-8acf-4681-8ca9-9f1607bd4389",
   "metadata": {},
   "outputs": [
    {
     "name": "stdout",
     "output_type": "stream",
     "text": [
      "bil1: 15\n",
      "bil2: 7.25\n"
     ]
    }
   ],
   "source": [
    "# Jika String Akan Digabung Dengan Nilai Numerik Maka Nilai Numerik Tersebut Perlu Dikonversi Ke Tipe str\n",
    "\n",
    "# Contoh:\n",
    "bil1 = 15\n",
    "bil2 = 7.25\n",
    "\n",
    "print('bil1: ' + str(bil1))\n",
    "print('bil2: ' + str(bil2))"
   ]
  },
  {
   "cell_type": "code",
   "execution_count": 123,
   "id": "f5a64bbe-2e20-43ac-85bf-38b1726f561b",
   "metadata": {},
   "outputs": [
    {
     "name": "stdout",
     "output_type": "stream",
     "text": [
      "bil1: 15\n",
      "bil1: 7.25\n"
     ]
    }
   ],
   "source": [
    "# Cara Lain Untuk Menyambung Nilai Numerik Dengan String Adalah Dengan Membuat String Terformat (formatted strinng)\n",
    "\n",
    "# Contoh:\n",
    "bil1 = 15\n",
    "bil2 = 7.25\n",
    "\n",
    "str1 = 'bil1: %d' %bil1\n",
    "str2 = 'bil1: %.2f' %bil2\n",
    "\n",
    "print(str1)\n",
    "print(str2)"
   ]
  },
  {
   "cell_type": "code",
   "execution_count": 129,
   "id": "c2c49ff6-83cf-416a-b9b1-fe171643ce36",
   "metadata": {},
   "outputs": [
    {
     "name": "stdout",
     "output_type": "stream",
     "text": [
      "'Takumi' ada didalam string Fadhlan\n"
     ]
    }
   ],
   "source": [
    "# Operator \"in\" Untuk Memeriksa Apakah Karakter Atau Substring Tertentu Ada Di Dalam String\n",
    "\n",
    "# Contoh\n",
    "Fadhlan = 'Politeknik Takumi'\n",
    "if 'Takumi' in Fadhlan:\n",
    "    print(\"'Takumi' ada didalam string Fadhlan\")\n",
    "else:\n",
    "    print(\"'Takumi' tidak ada didalam string Fadhlan\")"
   ]
  },
  {
   "cell_type": "code",
   "execution_count": 167,
   "id": "daaf3cae-95f8-41e6-bd82-a91031fc719b",
   "metadata": {},
   "outputs": [
    {
     "name": "stdout",
     "output_type": "stream",
     "text": [
      "-_- -_- -_- \n",
      "-_- -_- -_- -_- -_- -_- -_- -_- -_- -_- -_- -_- -_- -_- -_- \n"
     ]
    }
   ],
   "source": [
    "# Menerapkan Operator \"*\" Kedalam String Untuk Mengulang Karakter\n",
    "\n",
    "# Contoh\n",
    "Emoji = '-_- '\n",
    "teks = Emoji * 3\n",
    "print(teks)\n",
    "\n",
    "print((teks + '')*5)"
   ]
  },
  {
   "cell_type": "markdown",
   "id": "bd33469f-3067-4478-bddf-f8f498712087",
   "metadata": {},
   "source": [
    "# Operator Bitwise"
   ]
  },
  {
   "cell_type": "code",
   "execution_count": 175,
   "id": "4a5d8aca-9522-4234-a45d-a522558e63da",
   "metadata": {},
   "outputs": [
    {
     "name": "stdout",
     "output_type": "stream",
     "text": [
      "x:\t10\n",
      "y:\t5\n",
      "\n",
      "Bitwise AND\n",
      "x & y\t:0\n",
      "\n",
      "Bitwise OR\n",
      "x | y\t:15\n",
      "\n",
      "Bitwise XOR\n",
      "x ^ y\t:15\n",
      "\n",
      "Bitwise NOT\n",
      "~x\t:-11\n",
      "~y\t:-6\n",
      "\n",
      "Bitwise Shift Left\n",
      "x<<1\t:20\n",
      "y<<1\t:10\n",
      "\n",
      "Bitwise Shift Right\n",
      "x>>1\t:5\n",
      "y>>1\t:2\n"
     ]
    }
   ],
   "source": [
    "# Operator Bitwise Bertipe Bilangan Bulat (integer)\n",
    "# Variable Pertama Akan Dikonversikan Menjadi Bentuk Biner (Basis 2)\n",
    "# Bentuk Operator:\n",
    "# 1) & \"Bitwise AND\"\n",
    "# 2) | \"Bitwise OR\"\n",
    "# 3) ^ \"Bitwise XOR\"\n",
    "# 4) ~ \"Bitwise NOT\"\n",
    "# 5) << \"Bitwise Shift Left\"\n",
    "# 6) >> \"Bitwise Shift Right\"\n",
    "\n",
    "# Contoh:\n",
    "def main():\n",
    "    x = 10\n",
    "    y = 5\n",
    "\n",
    "# Menampilkan Nilai X Dan Y\n",
    "    print('x:\\t' + str(x))\n",
    "    print('y:\\t' + str(y))\n",
    "\n",
    "    print(\"\\nBitwise AND\")\n",
    "    print(\"x & y\\t:\" + str(x & y))\n",
    "\n",
    "    print(\"\\nBitwise OR\")\n",
    "    print(\"x | y\\t:\" + str(x | y))\n",
    "\n",
    "    print(\"\\nBitwise XOR\")\n",
    "    print(\"x ^ y\\t:\" + str(x ^ y))\n",
    "\n",
    "    print(\"\\nBitwise NOT\")\n",
    "    print(\"~x\\t:\" + str(~x))\n",
    "    print(\"~y\\t:\" + str(~y))\n",
    "\n",
    "    print(\"\\nBitwise Shift Left\")\n",
    "    print(\"x<<1\\t:\" + str(x<<1))\n",
    "    print(\"y<<1\\t:\" + str(y<<1))\n",
    "\n",
    "    print(\"\\nBitwise Shift Right\")\n",
    "    print(\"x>>1\\t:\" + str(x>>1))\n",
    "    print(\"y>>1\\t:\" + str(y>>1))\n",
    "\n",
    "if __name__ == '__main__':\n",
    "    main()"
   ]
  },
  {
   "cell_type": "code",
   "execution_count": null,
   "id": "6dfb7045-ae48-48eb-9c6e-42866d342b70",
   "metadata": {},
   "outputs": [],
   "source": []
  }
 ],
 "metadata": {
  "kernelspec": {
   "display_name": "Python 3 (ipykernel)",
   "language": "python",
   "name": "python3"
  },
  "language_info": {
   "codemirror_mode": {
    "name": "ipython",
    "version": 3
   },
   "file_extension": ".py",
   "mimetype": "text/x-python",
   "name": "python",
   "nbconvert_exporter": "python",
   "pygments_lexer": "ipython3",
   "version": "3.12.4"
  }
 },
 "nbformat": 4,
 "nbformat_minor": 5
}
