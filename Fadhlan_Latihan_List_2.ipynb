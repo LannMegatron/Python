{
 "cells": [
  {
   "cell_type": "code",
   "execution_count": 1,
   "id": "2c75cdf9-885c-49d8-847a-5cad2ccad4b8",
   "metadata": {},
   "outputs": [
    {
     "name": "stdout",
     "output_type": "stream",
     "text": [
      "Element Awal:\n",
      "['Rusia', 'Germany', 'Portugal']\n",
      "/nSetelah append():\n",
      "['Rusia', 'Germany', 'Portugal', 'Indonesia']\n",
      "/nSetelah insert():\n",
      "['Rusia', 'Japan', 'Germany', 'Portugal', 'Indonesia']\n",
      "/nSetelah extend():\n",
      "['Rusia', 'Japan', 'Germany', 'Portugal', 'Indonesia', 'Argentina', 'China']\n"
     ]
    }
   ],
   "source": [
    "# Membuat List\n",
    "Kota = ['Rusia', 'Germany', 'Portugal']\n",
    "print('Element Awal:')\n",
    "print(Kota)\n",
    "\n",
    "# Menggunakan Metode append (); Untuk Menambah Element Tunggal Di Bagian Akhir List\n",
    "Kota.append('Indonesia')\n",
    "print('/nSetelah append():')\n",
    "print(Kota)\n",
    "\n",
    "# Menggunakan Metode insert(); Untuk Menambahkan Element Tunggal Di Index/Posisi Tertentu\n",
    "Kota.insert(1, 'Japan')\n",
    "print('/nSetelah insert():')\n",
    "print(Kota)\n",
    "      \n",
    "# Menggunakan Metode extend(); Untukk Menyambung Atau Menggabungkan Suatu List Dengan List Lainnya\n",
    "Kota.extend (['Argentina', 'China'])\n",
    "print('/nSetelah extend():')\n",
    "print(Kota)"
   ]
  },
  {
   "cell_type": "code",
   "execution_count": 3,
   "id": "b37715a6-6229-49f8-9d01-5ea005dbd910",
   "metadata": {},
   "outputs": [
    {
     "name": "stdout",
     "output_type": "stream",
     "text": [
      "Element Awal:\n",
      "[5, 3, 2]\n",
      "/nSetelah append():\n",
      "[5, 3, 2, 7]\n",
      "/nSetelah insert():\n",
      "[5, 11, 3, 2, 7]\n",
      "/nSetelah extend():\n",
      "[5, 11, 3, 2, 7, 19, 13]\n"
     ]
    }
   ],
   "source": [
    "# Membuat List\n",
    "Angka = [5, 3, 2]\n",
    "print('Element Awal:')\n",
    "print(Angka)\n",
    "\n",
    "# Menggunakan Metode append (); Untuk Menambah Element Tunggal Di Bagian Akhir List\n",
    "Angka.append(7)\n",
    "print('/nSetelah append():')\n",
    "print(Angka)\n",
    "\n",
    "# Menggunakan Metode insert(); Untuk Menambahkan Element Tunggal Di Index/Posisi Tertentu\n",
    "Angka.insert(1, 11)\n",
    "print('/nSetelah insert():')\n",
    "print(Angka)\n",
    "      \n",
    "# Menggunakan Metode extend(); Untukk Menyambung Atau Menggabungkan Suatu List Dengan List Lainnya\n",
    "Angka.extend ([19, 13])\n",
    "print('/nSetelah extend():')\n",
    "print(Angka)"
   ]
  },
  {
   "cell_type": "code",
   "execution_count": null,
   "id": "ae1cc000-05e3-41fd-9186-34d89a318473",
   "metadata": {},
   "outputs": [],
   "source": []
  }
 ],
 "metadata": {
  "kernelspec": {
   "display_name": "Python 3 (ipykernel)",
   "language": "python",
   "name": "python3"
  },
  "language_info": {
   "codemirror_mode": {
    "name": "ipython",
    "version": 3
   },
   "file_extension": ".py",
   "mimetype": "text/x-python",
   "name": "python",
   "nbconvert_exporter": "python",
   "pygments_lexer": "ipython3",
   "version": "3.12.4"
  }
 },
 "nbformat": 4,
 "nbformat_minor": 5
}
