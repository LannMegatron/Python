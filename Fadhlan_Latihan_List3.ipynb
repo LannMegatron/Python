{
 "cells": [
  {
   "cell_type": "code",
   "execution_count": 33,
   "id": "72bf7382-1664-4464-8cff-39012b099447",
   "metadata": {},
   "outputs": [
    {
     "name": "stdout",
     "output_type": "stream",
     "text": [
      "Sebelum Diubah:\n",
      "['Rara', 'Riska', 'Aisyah']\n",
      "\n",
      "Setelah diubah:\n",
      "['Rara', 'Rani', 'Icha']\n"
     ]
    }
   ],
   "source": [
    "# Mengubah Nilai Element Di Dalam List\n",
    "\n",
    "# Membuat List\n",
    "Mantan = ['Rara', 'Riska', 'Aisyah']\n",
    "print(\"Sebelum Diubah:\")\n",
    "print(Mantan)\n",
    "\n",
    "# Mengubah Nilai Element List\n",
    "Mantan[1]='Rani'\n",
    "Mantan[-1]='Icha'\n",
    "\n",
    "# Menanpilkan Hasil Perubahan\n",
    "print('\\nSetelah diubah:')\n",
    "print(Mantan)"
   ]
  },
  {
   "cell_type": "code",
   "execution_count": 31,
   "id": "376fd3b5-b7a0-424b-8b0e-8cfa42325f56",
   "metadata": {},
   "outputs": [
    {
     "name": "stdout",
     "output_type": "stream",
     "text": [
      "Sebelum Dihapus\n",
      "['Rara', 'Riska', 'Rani', 'Icha', 'Aisyah']\n",
      "\n",
      "Setelah Dihapus Dengan Metode Remove():\n",
      "['Rara', 'Rani', 'Icha']\n",
      "\n",
      "\n",
      "Setelah Dihapus Menggunakan Metode Del[]\n",
      "['Rara']\n",
      "\n"
     ]
    }
   ],
   "source": [
    "# Menghapus Element Dari List\n",
    "\n",
    "# Membuat List\n",
    "Mantan = ['Rara', 'Riska', 'Rani', 'Icha', 'Aisyah']\n",
    "print('Sebelum Dihapus')\n",
    "print(Mantan)\n",
    "\n",
    "# Menggunakan Remove(); Menghapus Element Dari List Berdasarkan Nilainya\n",
    "# Bentuk Umum: Nama_Variable.remove()\n",
    "Mantan.remove('Aisyah')\n",
    "Mantan.remove('Riska')\n",
    "\n",
    "# Menanpilkan Hasil Setelah Dihapus Dengan Metode Remove()\n",
    "print('\\nSetelah Dihapus Dengan Metode Remove():')\n",
    "print(Mantan)\n",
    "print()\n",
    "\n",
    "# Menggunakan Del[]; Menghapus Element List Berdasarkan Indeksnya\n",
    "# Bentuk Umumnya: del Nama_Variable[indeks]\n",
    "del Mantan[1]\n",
    "del Mantan[-1]\n",
    "\n",
    "# Menanpilkan Hasil Perubahan Setelah Del[]\n",
    "print('\\nSetelah Dihapus Menggunakan Metode Del[]')\n",
    "print(Mantan)\n",
    "print()"
   ]
  },
  {
   "cell_type": "code",
   "execution_count": 21,
   "id": "6057a811-66ea-47ec-ab30-573c11f33107",
   "metadata": {},
   "outputs": [
    {
     "name": "stdout",
     "output_type": "stream",
     "text": [
      "Data List Awal:\n",
      "['Rani', 'Rara', 'Meyy']\n",
      "Setelah Di Sort:\n",
      "['Meyy', 'Rani', 'Rara']\n",
      "Data List:\n",
      "['Meyy', 'Rani', 'Rara']\n",
      "Setelah Di Reverse:\n",
      "['Rara', 'Rani', 'Meyy']\n"
     ]
    }
   ],
   "source": [
    "# Menyusun Data Dalam List Menggunakan Metode Sort() Dan Reverse()\n",
    "\n",
    "# Membuaat List\n",
    "Mantan = ['Rani', 'Rara', 'Meyy']\n",
    "\n",
    "# Menggunakan Metode Sort()\n",
    "print('Data List Awal:')\n",
    "print(Mantan)\n",
    "print('Setelah Di Sort:')\n",
    "Mantan.sort()\n",
    "print(Mantan)\n",
    "\n",
    "# Menggunakan Metode Reverse()\n",
    "print('Data List:')\n",
    "print(Mantan)\n",
    "print('Setelah Di Reverse:')\n",
    "Mantan.reverse()\n",
    "print(Mantan)"
   ]
  },
  {
   "cell_type": "code",
   "execution_count": 25,
   "id": "9346b68e-d5b0-4c8a-96e2-adaa8aaf1080",
   "metadata": {},
   "outputs": [
    {
     "name": "stdout",
     "output_type": "stream",
     "text": [
      "Data list:\n",
      "['Rara', 'Rani', 'Meyy']\n",
      "Mengulang Karakter Pada Item Rani Sebanyak 2 Kali\n",
      "['RR', 'aa', 'nn', 'ii']\n",
      "['RRR', 'aaa', 'nnn', 'iii']\n"
     ]
    }
   ],
   "source": [
    "# Mengulang Karakter Dalam Sebuah String\n",
    "\n",
    "# Membuat List\n",
    "list = ['Rara', 'Rani', 'Meyy']\n",
    "print('Data list:')\n",
    "print(list)\n",
    "print('Mengulang Karakter Pada Item Rani Sebanyak 2 Kali')\n",
    "doubles = [c * 2 for c in 'Rani']\n",
    "print(doubles)\n",
    "doubles1 = [c * 3 for c in 'Rani']\n",
    "print(doubles1)"
   ]
  }
 ],
 "metadata": {
  "kernelspec": {
   "display_name": "Python 3 (ipykernel)",
   "language": "python",
   "name": "python3"
  },
  "language_info": {
   "codemirror_mode": {
    "name": "ipython",
    "version": 3
   },
   "file_extension": ".py",
   "mimetype": "text/x-python",
   "name": "python",
   "nbconvert_exporter": "python",
   "pygments_lexer": "ipython3",
   "version": "3.12.4"
  }
 },
 "nbformat": 4,
 "nbformat_minor": 5
}
