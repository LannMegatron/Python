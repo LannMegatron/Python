{
 "cells": [
  {
   "cell_type": "code",
   "execution_count": 1,
   "id": "5110dac4-e8b8-46f6-8137-1c9b5945f4a5",
   "metadata": {},
   "outputs": [
    {
     "name": "stdout",
     "output_type": "stream",
     "text": [
      "2024-10-02\n",
      "02 Oktober 2024\n"
     ]
    }
   ],
   "source": [
    "# Membuat Kalender\n",
    "import datetime as dt\n",
    "\n",
    "# Tuple Untuk Nama Bulan\n",
    "BULAN = ('Januari', 'Februari', 'Maret', 'April', 'Mei', 'Juni', 'Juli', 'Agustus', 'September', 'Oktober', 'November', 'Desember')\n",
    "\n",
    "# Today Akan Berisi: 'YYYY-MM-DD'\n",
    "today = dt.date.isoformat(dt.date.today())\n",
    "\n",
    "yyyy = today[:4]\n",
    "mm = today[5:7]\n",
    "dd = today[8:]\n",
    "\n",
    "print(today)\n",
    "print('%s %s %s' % (dd, BULAN[int(mm)-1],yyyy))\n",
    "\n",
    "# Penjelasan:\n",
    "# Metode isoformat() Dari Kelas Date Yang Tersimpan Di Dalam Modul Datetime Berfungsi Untuk Mengembalikan Tanggal Yang Dilewatkan\n",
    "# Tanggal Saat Ini Dapat Diperoleh Dengan Memanggil Metode Today() Dari Kelas Date\n",
    "# Pada Kode Diatas, Digunakan Tuple Untuk Menyimpan Nama-Nama Bulan"
   ]
  },
  {
   "cell_type": "code",
   "execution_count": null,
   "id": "86bd2f73-4db6-4134-954f-dc8893f5e6a0",
   "metadata": {},
   "outputs": [],
   "source": []
  }
 ],
 "metadata": {
  "kernelspec": {
   "display_name": "Python 3 (ipykernel)",
   "language": "python",
   "name": "python3"
  },
  "language_info": {
   "codemirror_mode": {
    "name": "ipython",
    "version": 3
   },
   "file_extension": ".py",
   "mimetype": "text/x-python",
   "name": "python",
   "nbconvert_exporter": "python",
   "pygments_lexer": "ipython3",
   "version": "3.12.4"
  }
 },
 "nbformat": 4,
 "nbformat_minor": 5
}
