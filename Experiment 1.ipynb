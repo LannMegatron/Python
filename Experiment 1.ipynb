{
 "cells": [
  {
   "cell_type": "code",
   "execution_count": 3,
   "id": "83250f60-9ede-4eba-acef-ddd3db9caaeb",
   "metadata": {},
   "outputs": [
    {
     "name": "stdout",
     "output_type": "stream",
     "text": [
      "dic['Mahasiswa']: Fadhlan\n",
      "dic['Tanggal Lahir']: 18-11-2003\n",
      "dic['Tempat Lahir']: Bekasi\n",
      "dic['Prodi']): Mekatronika\n",
      "dic['Mata Kuliah']: Python\n",
      "dic['Kampus']: Politeknik Takumi\n",
      "dic['Hobby']: Olahraga\n"
     ]
    }
   ],
   "source": [
    "#Dalam Python, Dictionary Disebut Juga \"Mapping\". Identik Dengan Array Asos\n",
    "#Indeks Type String\n",
    "#Type Data: 1) Key; 2) Value\n",
    "#Bentuk Umum: Variable =(Key:1:Value1, Key2:Value2)\n",
    "\n",
    "#Contoh\n",
    "\n",
    "#Experiment 1: Buatlah Dictionary Nama Mahasiswa, Tanggal Lahir, Tempat Lahir, Prodi, Mata Kuliah, Kampus, Hobby\n",
    "dic ={'Mahasiswa':'Fadhlan', 'Tanggal Lahir':'18-11-2003', 'Tempat Lahir':'Bekasi', 'Prodi':'Mekatronika', 'Mata Kuliah':'Python', 'Kampus':'Politeknik Takumi', 'Hobby':'Olahraga'}\n",
    "\n",
    "#Menampilkan Dictionary\n",
    "\n",
    "print(\"dic['Mahasiswa']:\", dic['Mahasiswa'])\n",
    "print(\"dic['Tanggal Lahir']:\", dic['Tanggal Lahir'])\n",
    "print(\"dic['Tempat Lahir']:\", dic['Tempat Lahir'])\n",
    "print(\"dic['Prodi']):\", dic['Prodi'])\n",
    "print(\"dic['Mata Kuliah']:\", dic['Mata Kuliah'])\n",
    "print(\"dic['Kampus']:\", dic['Kampus'])\n",
    "print(\"dic['Hobby']:\", dic['Hobby'])"
   ]
  },
  {
   "cell_type": "code",
   "execution_count": null,
   "id": "b821162e-4e6f-44d5-9071-5b90497035c4",
   "metadata": {},
   "outputs": [],
   "source": []
  }
 ],
 "metadata": {
  "kernelspec": {
   "display_name": "Python 3 (ipykernel)",
   "language": "python",
   "name": "python3"
  },
  "language_info": {
   "codemirror_mode": {
    "name": "ipython",
    "version": 3
   },
   "file_extension": ".py",
   "mimetype": "text/x-python",
   "name": "python",
   "nbconvert_exporter": "python",
   "pygments_lexer": "ipython3",
   "version": "3.12.4"
  }
 },
 "nbformat": 4,
 "nbformat_minor": 5
}
