{
 "cells": [
  {
   "cell_type": "code",
   "execution_count": 1,
   "id": "9738428a-f4e7-44cc-bb32-d9246a0091e9",
   "metadata": {},
   "outputs": [
    {
     "name": "stdout",
     "output_type": "stream",
     "text": [
      "{32, 43, 11, 21}\n"
     ]
    }
   ],
   "source": [
    "# Untuk Menghindari Suatu Himpunan, Kita Perlu Menggunakan Fungsi Set()\n",
    "# Dan Menyertakan Runtunan Nilai Yang Akan Dijadikan Sebagai Element-Element Himpunan Tersebut Sebagai Parameternya\n",
    "# Bentuk Umum: nama_set = set([Nilai1, Nilai2, Nilai3,...])\n",
    "\n",
    "s = set([11, 21, 32, 43])\n",
    "print(s)"
   ]
  },
  {
   "cell_type": "code",
   "execution_count": 5,
   "id": "defcdc99-e285-4cc6-80ac-f9e7b27f6096",
   "metadata": {},
   "outputs": [
    {
     "name": "stdout",
     "output_type": "stream",
     "text": [
      "{'Volly', 'Badminton', 'Futsal'}\n"
     ]
    }
   ],
   "source": [
    "Hobby = set(['Volly', 'Badminton', 'Futsal'])\n",
    "print(Hobby)"
   ]
  },
  {
   "cell_type": "code",
   "execution_count": 17,
   "id": "1d014266-e75e-40d0-b583-a4b1bc6ee096",
   "metadata": {},
   "outputs": [
    {
     "name": "stdout",
     "output_type": "stream",
     "text": [
      "Element Awal\n",
      "33 11 44 22 55 \n",
      "\n",
      "Setelah Pemanggilan add():\n",
      "33 66 11 44 77 22 55 \n",
      "\n",
      "Setelah Pemanggilan update():\n",
      "33 66 99 11 44 77 22 55 88 \n",
      "\n",
      "Setelah Pemanggilan remove():\n",
      "33 66 99 11 77 22 55 88 \n",
      "\n",
      "Setelah Pemanggilan clear():\n",
      "Himpunan kosong\n",
      "\n"
     ]
    },
    {
     "ename": "SystemExit",
     "evalue": "1",
     "output_type": "error",
     "traceback": [
      "An exception has occurred, use %tb to see the full traceback.\n",
      "\u001b[1;31mSystemExit\u001b[0m\u001b[1;31m:\u001b[0m 1\n"
     ]
    }
   ],
   "source": [
    "# Contoh Program Yang Menunjukan Pembuatan Dan Penggunaan Himpunan\n",
    "\n",
    "import sys\n",
    "def printElements(s, info):\n",
    "    print(info)\n",
    "    if len(s) == 0:\n",
    "        print(\"Himpunan kosong\\n\")\n",
    "        sys.exit(1)\n",
    "    for e in s:\n",
    "        print(str(e) + \" \", end = '')\n",
    "    print(\"\\n\")\n",
    "\n",
    "# Membuat Himpunan\n",
    "s = set([11, 22, 33, 44, 55])\n",
    "printElements(s, \"Element Awal\")\n",
    "\n",
    "# Menambah Anggota/Element Baru\n",
    "# Menggunakan Element Add()\n",
    "s.add(66);\n",
    "s.add(77);\n",
    "printElements(s, \"Setelah Pemanggilan add():\")\n",
    "\n",
    "# Menambah Anggota/Element Baru\n",
    "# Menggunakan Metode Update()\n",
    "s.update([88, 99])\n",
    "printElements(s, \"Setelah Pemanggilan update():\")\n",
    "\n",
    "# Menghapus Element Dengan Nilai 44\n",
    "s.remove(44)\n",
    "printElements(s, \"Setelah Pemanggilan remove():\")\n",
    "\n",
    "# Menghapus Semua Elements\n",
    "s.clear()\n",
    "printElements(s, \"Setelah Pemanggilan clear():\")"
   ]
  },
  {
   "cell_type": "code",
   "execution_count": 21,
   "id": "1cc930b0-c04e-4ab7-9125-13bf19beb72c",
   "metadata": {},
   "outputs": [
    {
     "name": "stdout",
     "output_type": "stream",
     "text": [
      "Operasi Union:\n",
      "{1, 2, 3, 4}\n",
      "Operasi Intersection:\n",
      "{3}\n",
      "Operasi Difference:\n",
      "{1, 2}\n",
      "Operasi Symmtric Defference:\n",
      "{1, 2, 4}\n"
     ]
    }
   ],
   "source": [
    "# Type Set Mendukung Operasi-Operasi Himpunan Seperti:\n",
    "\n",
    "x = set([1, 2, 3])\n",
    "y = set([3, 4])\n",
    "\n",
    "a = x | y #Union\n",
    "print('Operasi Union:')\n",
    "print(a)\n",
    "\n",
    "b = x & y #Intersection\n",
    "print('Operasi Intersection:')\n",
    "print(b)\n",
    "\n",
    "c = x - y #Difference\n",
    "print('Operasi Difference:')\n",
    "print(c)\n",
    "\n",
    "d = x ^ y #Symmtric Defference\n",
    "print('Operasi Symmtric Defference:')\n",
    "print(d)"
   ]
  },
  {
   "cell_type": "code",
   "execution_count": 23,
   "id": "5b897833-ac9f-4fa5-bdbf-dd82fa720c46",
   "metadata": {},
   "outputs": [
    {
     "name": "stdout",
     "output_type": "stream",
     "text": [
      "frozenset({1, 2, 3})\n"
     ]
    }
   ],
   "source": [
    "# Jika Ingin Mendifinisikan Suatu Himpunan Yang Tidak Dapat Diubah, Baik Nilai Maupun Jumlah Anggotanya\n",
    "# Perlu Menggunakan Fungsi Frozenset()\n",
    "# Bentuk Umum: nama_constant_set = frozenset([Nilai1, Nilai2, Nilai3,...])\n",
    "\n",
    "# Contoh:\n",
    "fs = frozenset([1, 2, 3])\n",
    "print(fs)"
   ]
  },
  {
   "cell_type": "code",
   "execution_count": 25,
   "id": "a21a94aa-9f6e-42b3-8547-ccd1d5a98bcb",
   "metadata": {},
   "outputs": [
    {
     "name": "stdout",
     "output_type": "stream",
     "text": [
      "frozenset({1, 2, 3})\n"
     ]
    },
    {
     "ename": "AttributeError",
     "evalue": "'frozenset' object has no attribute 'add'",
     "output_type": "error",
     "traceback": [
      "\u001b[1;31m---------------------------------------------------------------------------\u001b[0m",
      "\u001b[1;31mAttributeError\u001b[0m                            Traceback (most recent call last)",
      "Cell \u001b[1;32mIn[25], line 4\u001b[0m\n\u001b[0;32m      2\u001b[0m fs \u001b[38;5;241m=\u001b[39m \u001b[38;5;28mfrozenset\u001b[39m([\u001b[38;5;241m1\u001b[39m, \u001b[38;5;241m2\u001b[39m, \u001b[38;5;241m3\u001b[39m])\n\u001b[0;32m      3\u001b[0m \u001b[38;5;28mprint\u001b[39m(fs)\n\u001b[1;32m----> 4\u001b[0m fs\u001b[38;5;241m.\u001b[39madd(\u001b[38;5;241m4\u001b[39m)\n",
      "\u001b[1;31mAttributeError\u001b[0m: 'frozenset' object has no attribute 'add'"
     ]
    }
   ],
   "source": [
    "# Frozenset Tidak Memiliki Metode Add()\\\n",
    "fs = frozenset([1, 2, 3])\n",
    "print(fs)\n",
    "fs.add(4)"
   ]
  },
  {
   "cell_type": "code",
   "execution_count": null,
   "id": "04067080-1981-4bfe-969a-db0f7c8cfa28",
   "metadata": {},
   "outputs": [],
   "source": []
  }
 ],
 "metadata": {
  "kernelspec": {
   "display_name": "Python 3 (ipykernel)",
   "language": "python",
   "name": "python3"
  },
  "language_info": {
   "codemirror_mode": {
    "name": "ipython",
    "version": 3
   },
   "file_extension": ".py",
   "mimetype": "text/x-python",
   "name": "python",
   "nbconvert_exporter": "python",
   "pygments_lexer": "ipython3",
   "version": "3.12.4"
  }
 },
 "nbformat": 4,
 "nbformat_minor": 5
}
